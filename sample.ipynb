{
 "cells": [
  {
   "cell_type": "code",
   "execution_count": 1,
   "id": "789b8e61",
   "metadata": {},
   "outputs": [
    {
     "name": "stdout",
     "output_type": "stream",
     "text": [
      "Collecting pypdf\n",
      "  Downloading pypdf-6.0.0-py3-none-any.whl (310 kB)\n",
      "     -------------------------------------- 310.5/310.5 kB 4.8 MB/s eta 0:00:00\n",
      "Requirement already satisfied: typing_extensions>=4.0 in c:\\users\\sai\\anaconda3\\lib\\site-packages (from pypdf) (4.12.2)\n",
      "Installing collected packages: pypdf\n",
      "Successfully installed pypdf-6.0.0\n",
      "Note: you may need to restart the kernel to use updated packages.\n"
     ]
    }
   ],
   "source": [
    "pip install pypdf"
   ]
  },
  {
   "cell_type": "code",
   "execution_count": 2,
   "id": "6fa9ea2d",
   "metadata": {},
   "outputs": [],
   "source": [
    "from pypdf import PdfReader"
   ]
  },
  {
   "cell_type": "code",
   "execution_count": 3,
   "id": "34f99c7a",
   "metadata": {},
   "outputs": [],
   "source": [
    "pdf_file = PdfReader(r\"C:\\Users\\SAI\\Downloads\\sai_tejaswini_resume_2025_2.pdf\")"
   ]
  },
  {
   "cell_type": "code",
   "execution_count": 6,
   "id": "a9ad6170",
   "metadata": {},
   "outputs": [],
   "source": [
    "pdf_text = \"\"\n",
    "for page in pdf_file.pages:\n",
    "    pdf_text += page.extract_text()"
   ]
  },
  {
   "cell_type": "code",
   "execution_count": 7,
   "id": "356e6665",
   "metadata": {},
   "outputs": [
    {
     "data": {
      "text/plain": [
       "'  \\nSAI TEJASWINI BANGARAIAH GARI \\nKurnool, India | saitejaswiniknl@gmail.com | +91 7780139533 | LinkedIn | GitHub \\n \\nEDUCATION \\nB.Tech, Computer Science and Engineering (AIML), CGPA: 9.48/10.0 2021–2025 \\nG. Pulla Reddy Engineering College, Kurnool, India \\nIntermediate (MPC), 983/1000 2019–2021 \\nNarayana Junior College, Kurnool, India \\nSSC, CGPA: 10/10 2018–2019 \\nSri Lakshmi High School, Kurnool, India \\n \\nTECHNICAL SKILLS \\n• AI/ML & Data Science: Supervised and Unsupervised ML, Scikit-learn, Pandas, NumPy, Matplotlib, Seaborn, Tableau, EDA, \\nStatistics, NLP (Transformers, Word Embeddings, Word2Vec, GloVe, TF-IDF, Sentiment Analysis, TextBlob, VADER) \\n,Hyperparamter Tuning \\n• Programming: Python, SQL, Java, C \\n• Databases: DBMS \\n• Platforms and Tools: ServiceNow, Github, Streamlit, Android Studio \\n• Web Development: HTML, CSS \\n• Fundamentals: Data Structures & Algorithms, OOPS, Operating Systems, Theory of Computation, Compiler Design \\n \\nWORK EXPERIENCE \\nPlatform Developer Intern, Kaptius (ServiceNow Partner) Jan 2025–Mar 2025 \\n• Developed IT Asset Request Management System using ServiceNow with automated workflows. \\nMachine Learning Intern, SkillDzire & Web Blinders Feb 2024–Apr 2024 \\n• Conducted EDA to uncover patterns for ML model development and Built ML workflows. \\nSQL Intern, Dev Skill Hub Consultancy Feb 2024–Apr 2024 \\n• Practiced writing SQL queries to explore and understand relational databases, data structures, and table relationships. \\n \\nACADEMIC PROJECTS \\nGenerative AI Adoption Impact Analysis  \\n• Analyzed productivity & sentiment using Leveraged Transformers, TF-IDF, TextBlob & VADER with ML models \\n(Random Forest, Logistic Regression) for actionable HR insights. \\nEmployee Promotion Predictor  \\n• Designed XGBoost model for promotion prediction, achieving 93.7% accuracy. \\n• Applied EDA and feature engineering to identify promotion factors. \\nCOVID-19 Prediction System  \\n• Built Random Forest model for COVID-19 prediction, achieving 97.42% accuracy. \\nTwitter Data Analysis Tool  \\n• Developed tool using Twitter API, Python, and ServiceNow for tweet analysis. \\n• Performed NLP with VADER for sentiment categorization and visualizations. \\nAsset Request Management System  \\n• Built IT asset request system in ServiceNow with workflows and dashboards. \\n \\nCERTIFICATIONS \\n• Wipro: Java Certification (Cleared 4 milestones) \\n• NPTEL: Strong scores in DBMS, Machine Learning, DSA (Java), Project Management \\n• INFOTECH: Certified in C, Java, DSA (Java); trained by Smart Interviews \\n• IIT Bombay: Java (80%), Python 3.4.3 (60%), HTML (80%) \\n• Udemy: Hands-on Machine Learning course \\n• Great Learning: Pursuing Data Science with GenAI Specialization \\n \\nLEADERSHIP & EXTRACURRICULAR \\nTraining and Placement Club, G. Pulla Reddy Engineering College 2023–2025 \\n• Actively coordinated placement activities, maintained communication with officers to support recruitment, and contributed \\nto outreach by teaching Scratch and rocket model building at G.P.H.S Srisailam. Also organized “Brain Wreck” with 800+ \\nparticipants and helped draft key documents. \\nClass Representative 2023–2024 \\n• Facilitated student-faculty communication to resolve academic concerns. \\nSocial Media Group, Computer Science Department 2023–2025 \\n• Managed social media to enhance departments digital visibility. \\nIEEE Student Branch, Event Organizer 2023–2025 \\n• Organized technical events and workshops to foster skills. \\nPublic Speaking & Performing Arts \\n• Won first place in numerous elocution competitions; appreciated for singing in six languages. '"
      ]
     },
     "execution_count": 7,
     "metadata": {},
     "output_type": "execute_result"
    }
   ],
   "source": [
    "pdf_text"
   ]
  },
  {
   "cell_type": "code",
   "execution_count": null,
   "id": "16c1d75d",
   "metadata": {},
   "outputs": [],
   "source": []
  }
 ],
 "metadata": {
  "kernelspec": {
   "display_name": "base",
   "language": "python",
   "name": "python3"
  },
  "language_info": {
   "codemirror_mode": {
    "name": "ipython",
    "version": 3
   },
   "file_extension": ".py",
   "mimetype": "text/x-python",
   "name": "python",
   "nbconvert_exporter": "python",
   "pygments_lexer": "ipython3",
   "version": "3.10.9"
  }
 },
 "nbformat": 4,
 "nbformat_minor": 5
}
